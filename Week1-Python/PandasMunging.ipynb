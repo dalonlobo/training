{
 "cells": [
  {
   "cell_type": "markdown",
   "metadata": {},
   "source": [
    "# This takes through simplest steps in data munging"
   ]
  },
  {
   "cell_type": "code",
   "execution_count": 1,
   "metadata": {},
   "outputs": [],
   "source": [
    "import numpy as np\n",
    "import pandas as pd\n",
    "import pandas.io"
   ]
  },
  {
   "cell_type": "code",
   "execution_count": 4,
   "metadata": {},
   "outputs": [
    {
     "data": {
      "text/html": [
       "<div>\n",
       "<style scoped>\n",
       "    .dataframe tbody tr th:only-of-type {\n",
       "        vertical-align: middle;\n",
       "    }\n",
       "\n",
       "    .dataframe tbody tr th {\n",
       "        vertical-align: top;\n",
       "    }\n",
       "\n",
       "    .dataframe thead th {\n",
       "        text-align: right;\n",
       "    }\n",
       "</style>\n",
       "<table border=\"1\" class=\"dataframe\">\n",
       "  <thead>\n",
       "    <tr style=\"text-align: right;\">\n",
       "      <th></th>\n",
       "      <th>name</th>\n",
       "      <th>city</th>\n",
       "      <th>subject</th>\n",
       "      <th>marks</th>\n",
       "      <th>MaxMark</th>\n",
       "      <th>grade</th>\n",
       "    </tr>\n",
       "  </thead>\n",
       "  <tbody>\n",
       "    <tr>\n",
       "      <th>0</th>\n",
       "      <td>John</td>\n",
       "      <td>Bangalore</td>\n",
       "      <td>Data Structures</td>\n",
       "      <td></td>\n",
       "      <td>100</td>\n",
       "      <td>B</td>\n",
       "    </tr>\n",
       "    <tr>\n",
       "      <th>1</th>\n",
       "      <td>Raman</td>\n",
       "      <td>Chennai</td>\n",
       "      <td>Data Structures</td>\n",
       "      <td>70</td>\n",
       "      <td>120</td>\n",
       "      <td>C</td>\n",
       "    </tr>\n",
       "    <tr>\n",
       "      <th>2</th>\n",
       "      <td>Venkat</td>\n",
       "      <td>Bangalore</td>\n",
       "      <td></td>\n",
       "      <td>90</td>\n",
       "      <td>130</td>\n",
       "      <td>A</td>\n",
       "    </tr>\n",
       "    <tr>\n",
       "      <th>3</th>\n",
       "      <td>Rani</td>\n",
       "      <td>Delhi</td>\n",
       "      <td>Data Structures</td>\n",
       "      <td>95</td>\n",
       "      <td>100</td>\n",
       "      <td>A</td>\n",
       "    </tr>\n",
       "    <tr>\n",
       "      <th>4</th>\n",
       "      <td>Lakshmi</td>\n",
       "      <td>Mumbai</td>\n",
       "      <td>Algorithms</td>\n",
       "      <td>90</td>\n",
       "      <td></td>\n",
       "      <td>A</td>\n",
       "    </tr>\n",
       "  </tbody>\n",
       "</table>\n",
       "</div>"
      ],
      "text/plain": [
       "      name       city          subject marks MaxMark grade\n",
       "0     John  Bangalore  Data Structures           100     B\n",
       "1    Raman    Chennai  Data Structures    70     120     C\n",
       "2   Venkat  Bangalore                     90     130     A\n",
       "3     Rani      Delhi  Data Structures    95     100     A\n",
       "4  Lakshmi     Mumbai       Algorithms    90             A"
      ]
     },
     "execution_count": 4,
     "metadata": {},
     "output_type": "execute_result"
    }
   ],
   "source": [
    "df1=pd.read_csv(\"Grades1MissingData.csv\")\n",
    "df1.columns = [\"name\", \"city\", \"subject\", \"marks\", \"MaxMark\",\"grade\"]\n",
    "df1.head()"
   ]
  },
  {
   "cell_type": "code",
   "execution_count": 5,
   "metadata": {},
   "outputs": [
    {
     "name": "stdout",
     "output_type": "stream",
     "text": [
      "      name       city          subject  marks  MaxMark grade\n",
      "0     John  Bangalore  Data Structures    NaN    100.0     B\n",
      "1    Raman    Chennai  Data Structures   70.0    120.0     C\n",
      "2   Venkat  Bangalore              NaN   90.0    130.0     A\n",
      "3     Rani      Delhi  Data Structures   95.0    100.0     A\n",
      "4  Lakshmi     Mumbai       Algorithms   90.0      NaN     A\n",
      "5     Syed    Kolkata        Compilers   92.0      NaN     A\n",
      "6     Alok    Kolkata              NaN   80.0    130.0     B\n",
      "7     Mehr     Mumbai  Data Structures   45.0      NaN     D\n",
      "8  Abraham    Chennai       Algorithms   96.0    100.0     A\n",
      "9      Jos  Bangalore        Compilers   59.0    120.0     D\n",
      "<class 'pandas.core.frame.DataFrame'>\n",
      "RangeIndex: 21 entries, 0 to 20\n",
      "Data columns (total 6 columns):\n",
      "name       21 non-null object\n",
      "city       21 non-null object\n",
      "subject    19 non-null object\n",
      "marks      20 non-null float64\n",
      "MaxMark    18 non-null float64\n",
      "grade      21 non-null object\n",
      "dtypes: float64(2), object(4)\n",
      "memory usage: 1.1+ KB\n"
     ]
    }
   ],
   "source": [
    "df1=pd.read_csv(\"Grades1MissingData.csv\", keep_default_na = False, na_values=[  \"\",\" \"])\n",
    "df1.columns = [\"name\", \"city\", \"subject\", \"marks\", \"MaxMark\",\"grade\"]\n",
    "print(df1.head(10))\n",
    "df1.info() #Gives in how many rows some part of data is missing"
   ]
  },
  {
   "cell_type": "code",
   "execution_count": 5,
   "metadata": {},
   "outputs": [
    {
     "data": {
      "text/plain": [
       "0    False\n",
       "1    False\n",
       "2     True\n",
       "3    False\n",
       "4    False\n",
       "5    False\n",
       "6     True\n",
       "7    False\n",
       "8    False\n",
       "9    False\n",
       "Name: subject, dtype: bool"
      ]
     },
     "execution_count": 5,
     "metadata": {},
     "output_type": "execute_result"
    }
   ],
   "source": [
    "pd.isna(df1.subject.head(10))"
   ]
  },
  {
   "cell_type": "code",
   "execution_count": 4,
   "metadata": {},
   "outputs": [
    {
     "data": {
      "text/plain": [
       "0     True\n",
       "1    False\n",
       "2    False\n",
       "3    False\n",
       "4    False\n",
       "5    False\n",
       "6    False\n",
       "7    False\n",
       "8    False\n",
       "9    False\n",
       "Name: marks, dtype: bool"
      ]
     },
     "execution_count": 4,
     "metadata": {},
     "output_type": "execute_result"
    }
   ],
   "source": [
    "pd.isna(df1[\"marks\"]).head(10)"
   ]
  },
  {
   "cell_type": "code",
   "execution_count": 6,
   "metadata": {},
   "outputs": [
    {
     "name": "stdout",
     "output_type": "stream",
     "text": [
      "0    False\n",
      "1    False\n",
      "2     True\n",
      "3    False\n",
      "4    False\n",
      "Name: subject, dtype: bool\n",
      "2\n"
     ]
    }
   ],
   "source": [
    "print(pd.isna(df1[\"subject\"]).head())\n",
    "print (np.sum(pd.isna(df1[\"subject\"])))"
   ]
  },
  {
   "cell_type": "code",
   "execution_count": 8,
   "metadata": {},
   "outputs": [
    {
     "name": "stdout",
     "output_type": "stream",
     "text": [
      "pd.sum= 1\n"
     ]
    }
   ],
   "source": [
    "#Find number of missing data in column \"marks\"\n",
    "np.sum(pd.isna(df1[\"marks\"]))\n",
    "print(\"pd.sum=\",pd.isna(df1[\"marks\"]).sum())"
   ]
  },
  {
   "cell_type": "code",
   "execution_count": 27,
   "metadata": {},
   "outputs": [
    {
     "data": {
      "text/plain": [
       "3"
      ]
     },
     "execution_count": 27,
     "metadata": {},
     "output_type": "execute_result"
    }
   ],
   "source": [
    "#Find number of missing data in column \"marks\"\n",
    "np.sum(pd.isna(df1[\"MaxMark\"]))"
   ]
  },
  {
   "cell_type": "code",
   "execution_count": 9,
   "metadata": {},
   "outputs": [
    {
     "data": {
      "text/html": [
       "<div>\n",
       "<style scoped>\n",
       "    .dataframe tbody tr th:only-of-type {\n",
       "        vertical-align: middle;\n",
       "    }\n",
       "\n",
       "    .dataframe tbody tr th {\n",
       "        vertical-align: top;\n",
       "    }\n",
       "\n",
       "    .dataframe thead th {\n",
       "        text-align: right;\n",
       "    }\n",
       "</style>\n",
       "<table border=\"1\" class=\"dataframe\">\n",
       "  <thead>\n",
       "    <tr style=\"text-align: right;\">\n",
       "      <th></th>\n",
       "      <th>name</th>\n",
       "      <th>city</th>\n",
       "      <th>subject</th>\n",
       "      <th>marks</th>\n",
       "      <th>MaxMark</th>\n",
       "      <th>grade</th>\n",
       "    </tr>\n",
       "  </thead>\n",
       "  <tbody>\n",
       "    <tr>\n",
       "      <th>0</th>\n",
       "      <td>John</td>\n",
       "      <td>Bangalore</td>\n",
       "      <td>Data Structures</td>\n",
       "      <td>50.0</td>\n",
       "      <td>100.0</td>\n",
       "      <td>B</td>\n",
       "    </tr>\n",
       "    <tr>\n",
       "      <th>1</th>\n",
       "      <td>Raman</td>\n",
       "      <td>Chennai</td>\n",
       "      <td>Data Structures</td>\n",
       "      <td>70.0</td>\n",
       "      <td>120.0</td>\n",
       "      <td>C</td>\n",
       "    </tr>\n",
       "    <tr>\n",
       "      <th>2</th>\n",
       "      <td>Venkat</td>\n",
       "      <td>Bangalore</td>\n",
       "      <td>Not Known</td>\n",
       "      <td>90.0</td>\n",
       "      <td>130.0</td>\n",
       "      <td>A</td>\n",
       "    </tr>\n",
       "    <tr>\n",
       "      <th>3</th>\n",
       "      <td>Rani</td>\n",
       "      <td>Delhi</td>\n",
       "      <td>Data Structures</td>\n",
       "      <td>95.0</td>\n",
       "      <td>100.0</td>\n",
       "      <td>A</td>\n",
       "    </tr>\n",
       "    <tr>\n",
       "      <th>4</th>\n",
       "      <td>Lakshmi</td>\n",
       "      <td>Mumbai</td>\n",
       "      <td>Algorithms</td>\n",
       "      <td>90.0</td>\n",
       "      <td>120.0</td>\n",
       "      <td>A</td>\n",
       "    </tr>\n",
       "  </tbody>\n",
       "</table>\n",
       "</div>"
      ],
      "text/plain": [
       "      name       city          subject  marks  MaxMark grade\n",
       "0     John  Bangalore  Data Structures   50.0    100.0     B\n",
       "1    Raman    Chennai  Data Structures   70.0    120.0     C\n",
       "2   Venkat  Bangalore        Not Known   90.0    130.0     A\n",
       "3     Rani      Delhi  Data Structures   95.0    100.0     A\n",
       "4  Lakshmi     Mumbai       Algorithms   90.0    120.0     A"
      ]
     },
     "execution_count": 9,
     "metadata": {},
     "output_type": "execute_result"
    }
   ],
   "source": [
    "#Fill Missing values differently for each column\n",
    "newdf1 = df1.fillna({\"MaxMark\":120, \"marks\": 50, \"subject\": \"Not Known\"})\n",
    "newdf1.head()\n"
   ]
  },
  {
   "cell_type": "code",
   "execution_count": 10,
   "metadata": {},
   "outputs": [],
   "source": [
    "newdf1.to_csv(\"Grade1MissingCorrected.csv\")"
   ]
  },
  {
   "cell_type": "code",
   "execution_count": null,
   "metadata": {},
   "outputs": [],
   "source": []
  }
 ],
 "metadata": {
  "kernelspec": {
   "display_name": "Python 3",
   "language": "python",
   "name": "python3"
  },
  "language_info": {
   "codemirror_mode": {
    "name": "ipython",
    "version": 3
   },
   "file_extension": ".py",
   "mimetype": "text/x-python",
   "name": "python",
   "nbconvert_exporter": "python",
   "pygments_lexer": "ipython3",
   "version": "3.6.2"
  }
 },
 "nbformat": 4,
 "nbformat_minor": 2
}
