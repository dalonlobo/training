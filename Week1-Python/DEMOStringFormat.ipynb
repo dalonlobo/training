{
 "cells": [
  {
   "cell_type": "code",
   "execution_count": 1,
   "metadata": {},
   "outputs": [
    {
     "name": "stdout",
     "output_type": "stream",
     "text": [
      "it has taken 10 hours to do this job that should have been done in 4 hours\n",
      "it has taken 4 hours to do this job that should have been done in 10 hours\n",
      "it has taken Ram, hours to do this job and sita did this quickly\n",
      "it has taken Ram, 4 hours to do this job and sita did this  in 10 hours\n",
      "it has taken Ram       ,     4 hours to do this job and sita                 did this  in                   10 hours\n",
      " Ram        bought, tomato               for    20 per kg and total cost came to 200.000\n"
     ]
    }
   ],
   "source": [
    "#String Format\n",
    "str1 = \"it has taken {} hours to do this job that should have been done in {} hours\"\n",
    "print (str1.format(10,4))\n",
    "#positional\n",
    "str1 = \"it has taken {1} hours to do this job that should have been done in {0} hours\"\n",
    "print (str1.format(10,4))\n",
    "#keyword only\n",
    "str1 = \"it has taken {name}, hours to do this job and {name2} did this quickly\"\n",
    "print (str1.format(name=\"Ram\", name2 = \"sita\"))\n",
    "#keyword along with positional\n",
    "str1 = \"it has taken {name}, {1} hours to do this job and {name2} did this  in {0} hours\"\n",
    "print (str1.format(10, 4, name=\"Ram\", name2 = \"sita\"))\n",
    "\n",
    "#space and display format/precision\n",
    "str1 = \"it has taken {name:10}, {1:5d} hours to do this job and {name2:20} did this  in {0:20} hours\"\n",
    "print (str1.format(10, 4, name=\"Ram\", name2 = \"sita\"))\n",
    "str1 = \" {name:10} bought, {name2:20} for {1:5d} per kg and total cost came to {0:.3f}\"\n",
    "print (str1.format(200, 20, name=\"Ram\", name2 = \"tomato\"))"
   ]
  },
  {
   "cell_type": "code",
   "execution_count": 5,
   "metadata": {},
   "outputs": [
    {
     "ename": "IndexError",
     "evalue": "tuple index out of range",
     "output_type": "error",
     "traceback": [
      "\u001b[1;31m---------------------------------------------------------------------------\u001b[0m",
      "\u001b[1;31mIndexError\u001b[0m                                Traceback (most recent call last)",
      "\u001b[1;32m<ipython-input-5-8cd35eba363c>\u001b[0m in \u001b[0;36m<module>\u001b[1;34m()\u001b[0m\n\u001b[0;32m      1\u001b[0m \u001b[0mstr1\u001b[0m \u001b[1;33m=\u001b[0m \u001b[1;34m\"it has taken {0}, hours to do this job and {1} {2}did this quickly\"\u001b[0m\u001b[1;33m\u001b[0m\u001b[0m\n\u001b[1;32m----> 2\u001b[1;33m \u001b[0mprint\u001b[0m \u001b[1;33m(\u001b[0m\u001b[0mstr1\u001b[0m\u001b[1;33m.\u001b[0m\u001b[0mformat\u001b[0m\u001b[1;33m(\u001b[0m\u001b[1;34m\"Ram\"\u001b[0m\u001b[1;33m,\u001b[0m \u001b[1;34m\"sita\"\u001b[0m\u001b[1;33m)\u001b[0m\u001b[1;33m)\u001b[0m\u001b[1;33m\u001b[0m\u001b[0m\n\u001b[0m",
      "\u001b[1;31mIndexError\u001b[0m: tuple index out of range"
     ]
    }
   ],
   "source": [
    "str1 = \"it has taken {0}, hours to do this job and {1} {2}did this quickly\"\n",
    "print (str1.format(\"Ram\", \"sita\"))\n"
   ]
  },
  {
   "cell_type": "code",
   "execution_count": 4,
   "metadata": {},
   "outputs": [
    {
     "name": "stdout",
     "output_type": "stream",
     "text": [
      "it has taken sita, hours to do this job and lAKSHMAN did this quickly\n"
     ]
    }
   ],
   "source": [
    "str1 = \"it has taken {1}, hours to do this job and {2} did this quickly\"\n",
    "print (str1.format(\"Ram\", \"sita\", \"lAKSHMAN\"))"
   ]
  },
  {
   "cell_type": "code",
   "execution_count": null,
   "metadata": {},
   "outputs": [],
   "source": []
  }
 ],
 "metadata": {
  "kernelspec": {
   "display_name": "Python 3",
   "language": "python",
   "name": "python3"
  },
  "language_info": {
   "codemirror_mode": {
    "name": "ipython",
    "version": 3
   },
   "file_extension": ".py",
   "mimetype": "text/x-python",
   "name": "python",
   "nbconvert_exporter": "python",
   "pygments_lexer": "ipython3",
   "version": "3.6.2"
  }
 },
 "nbformat": 4,
 "nbformat_minor": 2
}
