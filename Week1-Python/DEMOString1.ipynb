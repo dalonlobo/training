{
 "cells": [
  {
   "cell_type": "code",
   "execution_count": 7,
   "metadata": {},
   "outputs": [
    {
     "name": "stdout",
     "output_type": "stream",
     "text": [
      " Shall I compare thee to a summer's day?\n",
      "Thou art more lovely and more temperate:\n",
      "Rough winds do shake the darling buds of May,\n",
      "And summer's lease hath all too short a date:\n",
      "Sometime too hot the eye of heaven shines,\n",
      "And often is his gold complexion dimm'd!\n",
      "And every fair from fair sometime declines,\n",
      "By chance or nature's changing course untrimm'd!\n",
      "But thy eternal summer shall not fade\n",
      "Nor lose possession of that fair thou owest!\n",
      "Nor shall Death brag thou wander'st in his shade,\n",
      "When in eternal lines to time thou growest:\n",
      "So long as men can breathe or eyes can see,\n",
      "So long lives this and this gives life to thee\n",
      "\n",
      " Shall I compare thee to a summer's day?\n",
      "Thou art more lovely and more temperate:\n",
      "Rough winds do shake the darling buds of May&&And summer's lease hath all too short a date:\n",
      "Sometime too hot the eye of heaven shines&&And often is his gold complexion dimm'd!\n",
      "And every fair from fair sometime declines&&By chance or nature's changing course untrimm'd!\n",
      "But thy eternal summer shall not fade\n",
      "Nor lose possession of that fair thou owest!\n",
      "Nor shall Death brag thou wander'st in his shade&&When in eternal lines to time thou growest:\n",
      "So long as men can breathe or eyes can see&&So long lives this and this gives life to thee\n",
      "\n"
     ]
    }
   ],
   "source": [
    "Str1 = ''' Shall I compare thee to a summer's day?\n",
    "Thou art more lovely and more temperate:\n",
    "Rough winds do shake the darling buds of May,\n",
    "And summer's lease hath all too short a date:\n",
    "Sometime too hot the eye of heaven shines,\n",
    "And often is his gold complexion dimm'd;\n",
    "And every fair from fair sometime declines,\n",
    "By chance or nature's changing course untrimm'd;\n",
    "But thy eternal summer shall not fade\n",
    "Nor lose possession of that fair thou owest;\n",
    "Nor shall Death brag thou wander'st in his shade,\n",
    "When in eternal lines to time thou growest:\n",
    "So long as men can breathe or eyes can see,\n",
    "So long lives this and this gives life to thee\n",
    "'''\n",
    "#Replace all ; with !\n",
    "Str1 = Str1.replace (\";\", \"!\")\n",
    "print (Str1)\n",
    "Str1  = Str1.replace (\",\\n\", \"&&\")\n",
    "print (Str1)"
   ]
  },
  {
   "cell_type": "code",
   "execution_count": 10,
   "metadata": {},
   "outputs": [
    {
     "name": "stdout",
     "output_type": "stream",
     "text": [
      "python is great\n"
     ]
    }
   ],
   "source": [
    "str2 = \"Python is great\"\n",
    "print (str2.casefold())"
   ]
  },
  {
   "cell_type": "code",
   "execution_count": 11,
   "metadata": {},
   "outputs": [
    {
     "name": "stdout",
     "output_type": "stream",
     "text": [
      "Python is great\n"
     ]
    }
   ],
   "source": [
    "str2 = \"PYthon is GReat\"\n",
    "print (str2.capitalize())"
   ]
  },
  {
   "cell_type": "code",
   "execution_count": 12,
   "metadata": {},
   "outputs": [
    {
     "name": "stdout",
     "output_type": "stream",
     "text": [
      "2\n"
     ]
    }
   ],
   "source": [
    "print (Str1.count(\"So long\"))"
   ]
  },
  {
   "cell_type": "code",
   "execution_count": 24,
   "metadata": {},
   "outputs": [
    {
     "name": "stdout",
     "output_type": "stream",
     "text": [
      "Is str1 alphanumeric 1$23456abc False\n",
      "Is str2 alphanumeric 123456abc True\n",
      "Is str3 alpha abcd True\n",
      "Is str4 alpha 1234 False\n",
      "Is str4 numeric 1234 True\n",
      "str5= : \t\n",
      "  :\n",
      "\n",
      "Is str5 isspace True\n"
     ]
    }
   ],
   "source": [
    "str1 = \"1$23456abc\"\n",
    "str2 = \"123456abc\"\n",
    "str3 = \"abcd\"\n",
    "str4=\"1234\"\n",
    "print (\"Is str1 alphanumeric\", str1, str1.isalnum())\n",
    "print (\"Is str2 alphanumeric\", str2, str2.isalnum())\n",
    "print (\"Is str3 alpha\", str3, str3.isalpha())\n",
    "print (\"Is str4 alpha\", str4, str4.isalpha())\n",
    "print (\"Is str4 numeric\", str4, str4.isnumeric())\n",
    "str5 = \"\\t\\n \"\n",
    "print (\"str5= :\",str5, \":\\n\")\n",
    "print (\"Is str5 isspace\", str5.isspace())\n",
    "       "
   ]
  },
  {
   "cell_type": "code",
   "execution_count": 45,
   "metadata": {},
   "outputs": [
    {
     "name": "stdout",
     "output_type": "stream",
     "text": [
      "&&&&&&Welcome&&&&&&&\n",
      "Welcome\n",
      "Welcome&&&&&&&&&&&&&\n",
      "&&&&&&&&&&&&&Welcome\n"
     ]
    }
   ],
   "source": [
    "#center\n",
    "str1 = \"Welcome\"\n",
    "print (str1.center(20, '&'))\n",
    "#if # < len(str1), this command is ignored\n",
    "print (str1.center(2, '&'))\n",
    "#ljust\n",
    "print (str1.ljust(20, '&'))\n",
    "#rjust\n",
    "print (str1.rjust(20, '&'))"
   ]
  },
  {
   "cell_type": "code",
   "execution_count": 39,
   "metadata": {},
   "outputs": [
    {
     "name": "stdout",
     "output_type": "stream",
     "text": [
      "Hello höw are yöu\n",
      "Encoded string b'Hello h\\xc3\\xb6w are y\\xc3\\xb6u'\n",
      "Got an exception in encode 'ascii' codec can't encode character '\\xf6' in position 7: ordinal not in range(128)\n",
      "Encoded string-ignore errors b'Hello hw are yu'\n",
      "Encoded string-replace with ? b'Hello h?w are y?u'\n"
     ]
    }
   ],
   "source": [
    "#Example of encode\n",
    "str1 = \"Hello höw are yöu\"\n",
    "print (str1)\n",
    "print (\"Encoded string\", str1.encode()) #\\x shows next 2 chars are in hexdecimal\n",
    "#This throws an exception\n",
    "try:\n",
    "    print (\"Encoded string\", str1.encode(\"ascii\")) #\\x shows next 2 chars are in hexdecimal\n",
    "except UnicodeEncodeError as ue:\n",
    "    print (\"Got an exception in encode\", ue)\n",
    "    pass\n",
    "print (\"Encoded string-ignore errors\", str1.encode(\"ascii\", \"ignore\")) #Error chars skipped\n",
    "print (\"Encoded string-replace with ?\", str1.encode(\"ascii\", \"replace\")) #Error chars skipped"
   ]
  },
  {
   "cell_type": "code",
   "execution_count": 41,
   "metadata": {},
   "outputs": [
    {
     "name": "stdout",
     "output_type": "stream",
     "text": [
      "IsDecimal 1234567890 True\n",
      "IsDecimal 1234567890abc False\n",
      "IsDecimal 123 4567890 False\n"
     ]
    }
   ],
   "source": [
    "#isdecimal\n",
    "str1 = \"1234567890\"\n",
    "str2= \"1234567890abc\"\n",
    "str3 = \"123 4567890\"\n",
    "\n",
    "print (\"IsDecimal\", str1, str1.isdecimal()) #it has only decimal, so true\n",
    "print (\"IsDecimal\", str2, str2.isdecimal()) #it has alpha or hex so false\n",
    "print (\"IsDecimal\", str3, str3.isdecimal()) #It has spaces also so false"
   ]
  },
  {
   "cell_type": "code",
   "execution_count": 43,
   "metadata": {},
   "outputs": [
    {
     "name": "stdout",
     "output_type": "stream",
     "text": [
      "id= str1 True\n",
      "id= 1str1 False\n",
      "id=  str1 False\n"
     ]
    }
   ],
   "source": [
    "#isidentifier\n",
    "str1 = \"str1\"\n",
    "print (\"id=\", str1, str1.isidentifier())\n",
    "str1 = \"1str1\"\n",
    "print (\"id=\", str1, str1.isidentifier())\n",
    "str1 = \" str1\"\n",
    "print (\"id=\", str1, str1.isidentifier())\n"
   ]
  },
  {
   "cell_type": "code",
   "execution_count": 48,
   "metadata": {},
   "outputs": [
    {
     "name": "stdout",
     "output_type": "stream",
     "text": [
      "('This is fun', ',', \" is n't it?\")\n",
      "(\"This is fun, is n't it?\", '', '')\n"
     ]
    }
   ],
   "source": [
    "#partition\n",
    "str1 = \"This is fun, is n't it?\"\n",
    "print (str1.partition(\",\"))\n",
    "print (str1.partition(\"#\"))"
   ]
  },
  {
   "cell_type": "markdown",
   "metadata": {},
   "source": [
    "str1 = \"This, is, fun,\"\n",
    "str2= str1.rsplit(\",\")\n",
    "print (str2, type(str2)"
   ]
  },
  {
   "cell_type": "code",
   "execution_count": 62,
   "metadata": {},
   "outputs": [
    {
     "name": "stdout",
     "output_type": "stream",
     "text": [
      "['Coding in python is', 'fun'] <class 'list'>\n",
      "['Coding in python', 'is', 'fun'] <class 'list'>\n",
      "['Coding', 'in', 'python', 'is', 'fun'] <class 'list'>\n",
      "['Coding', 'in python is fun'] <class 'list'>\n",
      "['Coding', 'in', 'python is fun'] <class 'list'>\n",
      "['Coding', 'in', 'python', 'is', 'fun'] <class 'list'>\n"
     ]
    }
   ],
   "source": [
    "str1 = \"Coding in python is fun\" \n",
    "str2= str1.rsplit(\" \", 1) # do one split\n",
    "print (str2, type(str2))\n",
    "str2= str1.rsplit(\" \", 2) # do 2 split\n",
    "print (str2, type(str2))\n",
    "str2= str1.rsplit(\" \", -1) # do 2 split\n",
    "print (str2, type(str2))\n",
    "str2 = str1.split(\" \", 1)\n",
    "print (str2, type(str2))\n",
    "str2 = str1.split(\" \", 2)\n",
    "print (str2, type(str2))\n",
    "str2 = str1.split(\" \", -1)\n",
    "print (str2, type(str2))"
   ]
  },
  {
   "cell_type": "code",
   "execution_count": null,
   "metadata": {},
   "outputs": [],
   "source": []
  }
 ],
 "metadata": {
  "kernelspec": {
   "display_name": "Python 3",
   "language": "python",
   "name": "python3"
  },
  "language_info": {
   "codemirror_mode": {
    "name": "ipython",
    "version": 3
   },
   "file_extension": ".py",
   "mimetype": "text/x-python",
   "name": "python",
   "nbconvert_exporter": "python",
   "pygments_lexer": "ipython3",
   "version": "3.6.2"
  }
 },
 "nbformat": 4,
 "nbformat_minor": 2
}
