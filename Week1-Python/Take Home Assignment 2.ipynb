{
 "cells": [
  {
   "cell_type": "code",
   "execution_count": null,
   "metadata": {},
   "outputs": [],
   "source": [
    "''' \n",
    "I am giving the next take home assignment. This is related to one of the models \n",
    "you will be building later on during the course - Linear Regression. But before you build a model, \n",
    "you will need to have a method to extract the data and process it in your data frames and convert to numpy. \n",
    "This is the assignment for this week. Process the data set given(\"airfoil_self_noise.dat\", a tab seperated text file).  \n",
    "Specifically write code to use Pandas to read the data set and convert the data into numpy. The data set has 6 attributes - \n",
    "and they are explained below: Columns 1 to 5 are features, and column 6 is the Y_data. Please store the columns 1 to 5 in \n",
    "numpy array (called X_data in future), and store column 6 in numpy array as Y_data. The shape of Y_data should be (num rows, 1),\n",
    "and X_data (numrows, 5). \n",
    "You will using the data set given here to predict the value of the attribute 6 - \"Scaled sound pressure level, in decibels\" \n",
    "as given below. You will write a model processing the X_data and learn the parameters used to predict Y_data. \n",
    "Once you have learned the parameters, you can use those parameters to predict sound pressure for any new data. \n",
    "\n",
    "That is the goal of Supervised Machine Learning.  In case you find this topic a bit advanced, don't worry. \n",
    "This concept will be explained in the coming weeks of Machine Learning. \n",
    "\n",
    "NASA data set, obtained from a series of aerodynamic and acoustic tests of two and three-dimensional airfoil blade \n",
    "sections conducted in an anechoic wind tunnel. The data set comprises different size NACA 0012 airfoils at various wind \n",
    "tunnel speeds and angles of attack. The span of the airfoil and the observer position were the same in all of the experiments. \n",
    "The data set has 6 attributes as given below. \n",
    "Now you will read a dataset for Machine Learning using pandas\n",
    "filename = \"airfoil_self_noise.dat.txt\"\n",
    "This is tab separated file with headers\n",
    "Use appropriate command to read this data file and store the data into dataframe.\n",
    "After that convert it to numpy\n",
    "Then use numpy to split the data into training and test set.\n",
    "The training data should have 80% of data, and the test data should ahve 20% data.\n",
    "DO NOT USE SKLEARN LIBRARY\n",
    "Details of Data set:\n",
    "Attribute Information:\n",
    "\n",
    "This problem has the following inputs:\n",
    "(Attributes 1 to 5 form X_data) \n",
    "1. Frequency, in Hertzs. \n",
    "2. Angle of attack, in degrees. \n",
    "3. Chord length, in meters. \n",
    "4. Free-stream velocity, in meters per second. \n",
    "5. Suction side displacement thickness, in meters. \n",
    "\n",
    "The only output is (and Y_data): \n",
    "6. Scaled sound pressure level, in decibels. \n",
    "'''"
   ]
  },
  {
   "cell_type": "code",
   "execution_count": null,
   "metadata": {},
   "outputs": [],
   "source": [
    "#Import necessary modules for this"
   ]
  },
  {
   "cell_type": "code",
   "execution_count": null,
   "metadata": {},
   "outputs": [],
   "source": [
    "'''\n",
    "\n",
    "'''\n",
    "def readData (): #Figure out the parameters for this. ideally it should have file name, x columnn, and y column names atleast\n",
    "    '''\n",
    "    input: filename to read, and enough parameters to read the file. Ideally it should be given the x_data columns, and y_data\n",
    "    and read into x_data and y_data. Other parameters maybe required to read the data.\n",
    "            \n",
    "    Task: Read the csv file, and store them dataframes\n",
    "            Convert the data to numpy\n",
    "            x_data will have 1st 5 columns\n",
    "            y_data will have  last column (\"Sound Decibel pressure\")\n",
    "    Output: x_data_training, y_data_training, x_data_testing, y_data_testing\n",
    "    \n",
    "    '''\n",
    "    ### Write your code here  to read from file using pandas and convert to numpy\n",
    "    #expected number of rows = 1503, expected number of columns  = 6 (5 for x_data, and 1 for y_data)\n",
    "    \n",
    "    \n",
    "    \n",
    "    ### Convert to numpy\n",
    "\n",
    "    \n",
    "    \n",
    "    \n",
    "    ### Now split the data into training and test data. You can read the entire data frame in 1 variable and then split to 80% 20% \n",
    "    ## or convert to numpy and  x_data_training = 80% of x_data (can take 80% of rows from the start), Y _data_traing = corresponding\n",
    "    #y value for each x_data. That should also be 80% of (take same top 80% of y_data)\n",
    "    ## Number of rows in x_data_training and y_data_training should match. Other wise you cannot apply this\n",
    "\n",
    "    \n",
    "    return #x_data_training, y_data_training, x_data_testing, y_data_testing\n",
    "    "
   ]
  },
  {
   "cell_type": "code",
   "execution_count": null,
   "metadata": {},
   "outputs": [],
   "source": [
    "cols = []# Figure out the columnsand pass that information\n",
    "filename='airfoil_self_noise.dat.txt'\n",
    "x_train, y_train, x_test, y_test = readData() #Call with appropriate paramters"
   ]
  },
  {
   "cell_type": "code",
   "execution_count": null,
   "metadata": {},
   "outputs": [],
   "source": [
    "## The top five rows of x_train should be:\n",
    "'''\n",
    "[[8.00000e+02 0.00000e+00 3.04800e-01 7.13000e+01 2.66337e-03]\n",
    " [1.00000e+03 0.00000e+00 3.04800e-01 7.13000e+01 2.66337e-03]\n",
    " [1.25000e+03 0.00000e+00 3.04800e-01 7.13000e+01 2.66337e-03]\n",
    " [1.60000e+03 0.00000e+00 3.04800e-01 7.13000e+01 2.66337e-03]\n",
    " [2.00000e+03 0.00000e+00 3.04800e-01 7.13000e+01 2.66337e-03]]\n",
    "'''\n",
    "## The top five rows of y_train should be:\n",
    "#[126.201 125.201 125.951 127.591 127.461]"
   ]
  }
 ],
 "metadata": {
  "kernelspec": {
   "display_name": "Python 3",
   "language": "python",
   "name": "python3"
  },
  "language_info": {
   "codemirror_mode": {
    "name": "ipython",
    "version": 3
   },
   "file_extension": ".py",
   "mimetype": "text/x-python",
   "name": "python",
   "nbconvert_exporter": "python",
   "pygments_lexer": "ipython3",
   "version": "3.6.2"
  }
 },
 "nbformat": 4,
 "nbformat_minor": 2
}
