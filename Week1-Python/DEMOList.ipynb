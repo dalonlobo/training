{
 "cells": [
  {
   "cell_type": "markdown",
   "metadata": {},
   "source": [
    "# List are heterogeneous. It can contain primitive data types (int, float, string, complex, byte), list, tuple, range, set, dict,bytearray\n"
   ]
  },
  {
   "cell_type": "code",
   "execution_count": 1,
   "metadata": {},
   "outputs": [
    {
     "name": "stdout",
     "output_type": "stream",
     "text": [
      "Element=  1 type= <class 'int'>\n",
      "Element=  2 type= <class 'int'>\n",
      "Element=  1.3 type= <class 'float'>\n",
      "Element=  (1+3j) type= <class 'complex'>\n",
      "Element=  abc type= <class 'str'> Length= 3\n",
      "Element=  (11, 22, 33) type= <class 'tuple'> Length= 3\n",
      "Element=  [111, 22] type= <class 'list'> Length= 2\n",
      "Element=  {17, 15} type= <class 'set'> Length= 2\n",
      "Element=  {12: 13, 14: 15} type= <class 'dict'> Length= 2\n",
      "Element=  b'byte' type= <class 'bytes'> Length= 4\n",
      "Element=  bytearray(b'HiIamMutableByte') type= <class 'bytearray'> Length= 16\n",
      "Element=  range(1, 10, 4) type= <class 'range'> Length= 3\n"
     ]
    }
   ],
   "source": [
    "abaStr = bytearray(b\"HiIamMutableByte\")\n",
    "l = [1, 2, 1.3, 1+3j, \"abc\", (11,22,33), [111,22], {15,17}, {12:13, 14:15}, b\"byte\", abaStr, range(1,10,4)]\n",
    "for i in l:\n",
    "    if (type (i) not in (int, float, complex)):\n",
    "        print (\"Element= \", i, \"type=\", type(i), \"Length=\", len(i))\n",
    "    else:\n",
    "        print (\"Element= \", i, \"type=\", type(i))"
   ]
  },
  {
   "cell_type": "code",
   "execution_count": 7,
   "metadata": {},
   "outputs": [
    {
     "name": "stdout",
     "output_type": "stream",
     "text": [
      "[1, 2, 1.3, (1+3j), 'abc', (11, 22, 33), [111, 22], {17, 15}, {12: 13, 14: 15}, b'byte', bytearray(b'HiIamMutableByte'), range(1, 10, 4)]\n",
      "index= 0 Element=  1 type= <class 'int'>\n",
      "index= 1 Element=  2 type= <class 'int'>\n",
      "index= 2 Element=  1.3 type= <class 'float'>\n",
      "index= 3 Element=  (1+3j) type= <class 'complex'>\n",
      "index= 4 Element=  abc type= <class 'str'> Length= 3\n",
      "index= 5 Element=  (11, 22, 33) type= <class 'tuple'> Length= 3\n",
      "index= 6 Element=  [111, 22] type= <class 'list'> Length= 2\n",
      "index= 7 Element=  {17, 15} type= <class 'set'> Length= 2\n",
      "index= 8 Element=  {12: 13, 14: 15} type= <class 'dict'> Length= 2\n",
      "index= 9 Element=  b'byte' type= <class 'bytes'> Length= 4\n",
      "index= 10 Element=  bytearray(b'HiIamMutableByte') type= <class 'bytearray'> Length= 16\n",
      "index= 11 Element=  range(1, 10, 4) type= <class 'range'> Length= 3\n"
     ]
    }
   ],
   "source": [
    "#Now access each element of the array using for and range object\n",
    "length =len(l)\n",
    "j = 0\n",
    "print (l)\n",
    "while j < length:\n",
    "    i = l[j]\n",
    "    if (type (i) not in (int, float, complex)):\n",
    "        print (\"index=\", j, \"Element= \", i, \"type=\", type(i), \"Length=\", len(i))\n",
    "    else:\n",
    "        print (\"index=\", j, \"Element= \", i, \"type=\", type(i))    \n",
    "    j += 1\n",
    "    "
   ]
  },
  {
   "cell_type": "code",
   "execution_count": 2,
   "metadata": {},
   "outputs": [
    {
     "name": "stdout",
     "output_type": "stream",
     "text": [
      "Now calling using list item\n",
      "Executing f1( 10 )\n",
      "Now calling using tuple item\n",
      "Executing f1( 10 )\n",
      "\n",
      "\n",
      "Now calling using list item\n",
      "Executing f2( 20 )\n",
      "Now calling using tuple item\n",
      "Executing f2( 20 )\n",
      "\n",
      "\n",
      "Now calling using list item\n",
      "Executing f3( 30 )\n",
      "Now calling using tuple item\n",
      "Executing f3( 30 )\n",
      "\n",
      "\n"
     ]
    }
   ],
   "source": [
    "def f1(a):\n",
    "    print (\"Executing f1(\", a, \")\")\n",
    "def f2(a):\n",
    "    print (\"Executing f2(\", a, \")\")\n",
    "def f3(a):\n",
    "    print (\"Executing f3(\", a, \")\")\n",
    "l = [f1,f2,f3]\n",
    "m = [(f1,10), (f2,20), (f3,30)]\n",
    "paraml= [ 10, 20, 30]\n",
    "for i in range (len(l)):\n",
    "    print (\"Now calling using list item\")\n",
    "    l[i](paraml[i])\n",
    "    print (\"Now calling using tuple item\")\n",
    "    m[i][0](m[i][1])\n",
    "    print (\"\\n\")"
   ]
  },
  {
   "cell_type": "markdown",
   "metadata": {},
   "source": [
    "# Lets use some functions in list: append, insert, pop, remove, count"
   ]
  },
  {
   "cell_type": "code",
   "execution_count": 4,
   "metadata": {},
   "outputs": [
    {
     "name": "stdout",
     "output_type": "stream",
     "text": [
      "After append 1000 [12, 13, 14, 14, 17, 18, 12, 18, 1000] 9\n"
     ]
    }
   ],
   "source": [
    "#append\n",
    "l = [12, 13, 14, 14, 17, 18, 12, 18]\n",
    "l2 = [11,100]\n",
    "#append a single item\n",
    "l.append (1000)\n",
    "print (\"After append 1000\", l, len(l))\n",
    "\n"
   ]
  },
  {
   "cell_type": "code",
   "execution_count": 5,
   "metadata": {},
   "outputs": [
    {
     "name": "stdout",
     "output_type": "stream",
     "text": [
      "After Append l2 [12, 13, 14, 14, 17, 18, 12, 18, 1000, [11, 100]] 10\n"
     ]
    }
   ],
   "source": [
    "#append a list\n",
    "l.append(l2)\n",
    "print (\"After Append l2\", l, len(l))\n",
    "\n"
   ]
  },
  {
   "cell_type": "code",
   "execution_count": 6,
   "metadata": {},
   "outputs": [
    {
     "name": "stdout",
     "output_type": "stream",
     "text": [
      "After insert l3 [12, 13, ['a', 'b'], 14, 14, 17, 18, 12, 18, 1000, [11, 100]] 11\n"
     ]
    }
   ],
   "source": [
    "#insert a list\n",
    "l3 = [\"a\", \"b\"]\n",
    "l.insert(2, l3)\n",
    "print (\"After insert l3\", l, len (l))\n"
   ]
  },
  {
   "cell_type": "code",
   "execution_count": 10,
   "metadata": {},
   "outputs": [
    {
     "name": "stdout",
     "output_type": "stream",
     "text": [
      "#times 14 in list= 0\n",
      "after pop 1 [17, 12, 18, 1000, [11, 100]] 5 18\n",
      "after pop 1 [12, 18, 1000, [11, 100]] 4 17\n"
     ]
    }
   ],
   "source": [
    "#find count\n",
    "print (\"#times 14 in list=\", l.count(14))\n",
    "#remove via pop pop(index)\n",
    "a =l.pop(1)\n",
    "print (\"after pop 1\", l, len(l), a)\n",
    "a=l.pop(0)\n",
    "print (\"after pop 1\", l, len(l), a)"
   ]
  },
  {
   "cell_type": "code",
   "execution_count": null,
   "metadata": {},
   "outputs": [],
   "source": [
    "#remove item directly\n",
    "l.remove(14)\n",
    "print (\"after remove  14\", l, len (l))\n",
    "l.remove(1000)\n",
    "print (\"After remove 1000\", l, len (l))\n",
    "\n",
    "l.remove(1000)\n",
    "print (\"After remove 1000\", l, len (l)) # This time will throw an exception"
   ]
  },
  {
   "cell_type": "markdown",
   "metadata": {},
   "source": [
    "# Lets use some functions in list: extend, sort, sorted, copy, clear"
   ]
  },
  {
   "cell_type": "code",
   "execution_count": 11,
   "metadata": {},
   "outputs": [
    {
     "name": "stdout",
     "output_type": "stream",
     "text": [
      "Calling sort with default parameters [('bangalore', 1000000), ('chennai', 1100000), ('delhi', 2000), ('mumbai', 30000040), ('trichy', 1000)]\n"
     ]
    }
   ],
   "source": [
    "#sorted and sort\n",
    "def take2nd(elem):\n",
    "    print (\"calling take2nd\", elem)\n",
    "    return elem[1]\n",
    "\n",
    "places = [(\"trichy\", 1000) , (\"bangalore\", 1000000),  (\"chennai\", 1100000), (\"delhi\", 2000), (\"mumbai\", 30000040)]\n",
    "print (\"Calling sort with default parameters\", sorted(places))\n",
    "\n"
   ]
  },
  {
   "cell_type": "code",
   "execution_count": 12,
   "metadata": {},
   "outputs": [
    {
     "name": "stdout",
     "output_type": "stream",
     "text": [
      "[('trichy', 1000), ('bangalore', 1000000), ('chennai', 1100000), ('delhi', 2000), ('mumbai', 30000040)]\n",
      "calling take2nd ('trichy', 1000)\n",
      "calling take2nd ('bangalore', 1000000)\n",
      "calling take2nd ('chennai', 1100000)\n",
      "calling take2nd ('delhi', 2000)\n",
      "calling take2nd ('mumbai', 30000040)\n",
      "[('trichy', 1000), ('delhi', 2000), ('bangalore', 1000000), ('chennai', 1100000), ('mumbai', 30000040)]\n"
     ]
    }
   ],
   "source": [
    "print (places)\n",
    "places.sort(key=take2nd, reverse=False)\n",
    "print (places)"
   ]
  },
  {
   "cell_type": "code",
   "execution_count": 30,
   "metadata": {},
   "outputs": [
    {
     "name": "stdout",
     "output_type": "stream",
     "text": [
      "[('trichy', 1000), ('delhi', 2000), ('bangalore', 1000000), ('chennai', 1100000), ('mumbai', 30000040)]\n"
     ]
    }
   ],
   "source": [
    "pl2 = places.copy()\n",
    "print (pl2)"
   ]
  },
  {
   "cell_type": "code",
   "execution_count": 31,
   "metadata": {},
   "outputs": [],
   "source": [
    "places.clear()"
   ]
  },
  {
   "cell_type": "code",
   "execution_count": 32,
   "metadata": {},
   "outputs": [
    {
     "name": "stdout",
     "output_type": "stream",
     "text": [
      "[]\n",
      "[('trichy', 1000), ('delhi', 2000), ('bangalore', 1000000), ('chennai', 1100000), ('mumbai', 30000040)]\n"
     ]
    }
   ],
   "source": [
    "print (places)\n",
    "print (pl2)"
   ]
  },
  {
   "cell_type": "code",
   "execution_count": 33,
   "metadata": {},
   "outputs": [
    {
     "name": "stdout",
     "output_type": "stream",
     "text": [
      "[('trichy', 1000), ('delhi', 2000), ('bangalore', 1000000), ('chennai', 1100000), ('mumbai', 30000040), ('pune', 1111), ('Gariahat', 100000)]\n"
     ]
    }
   ],
   "source": [
    "l2 = [(\"pune\", 1111), (\"Gariahat\", 100000)] \n",
    "pl2.extend(l2)\n",
    "print(pl2)"
   ]
  },
  {
   "cell_type": "markdown",
   "metadata": {},
   "source": [
    "# Now lets use the built in function sum"
   ]
  },
  {
   "cell_type": "code",
   "execution_count": 44,
   "metadata": {},
   "outputs": [
    {
     "name": "stdout",
     "output_type": "stream",
     "text": [
      "[12, ['a', 'b'], 14, 17, 18, 12, 18, [11, 100]]\n"
     ]
    }
   ],
   "source": [
    "print (l)\n"
   ]
  },
  {
   "cell_type": "code",
   "execution_count": 48,
   "metadata": {},
   "outputs": [
    {
     "name": "stdout",
     "output_type": "stream",
     "text": [
      "[14, 17, 18, 12, 18]\n",
      "79\n"
     ]
    }
   ],
   "source": [
    "l1 = l[2:len(l)-1]\n",
    "print (l1)\n",
    "print (sum(l1)) #sum (l1, a)=> sum(l1) + a"
   ]
  },
  {
   "cell_type": "code",
   "execution_count": null,
   "metadata": {},
   "outputs": [],
   "source": []
  }
 ],
 "metadata": {
  "kernelspec": {
   "display_name": "Python 3",
   "language": "python",
   "name": "python3"
  },
  "language_info": {
   "codemirror_mode": {
    "name": "ipython",
    "version": 3
   },
   "file_extension": ".py",
   "mimetype": "text/x-python",
   "name": "python",
   "nbconvert_exporter": "python",
   "pygments_lexer": "ipython3",
   "version": "3.6.2"
  }
 },
 "nbformat": 4,
 "nbformat_minor": 2
}
