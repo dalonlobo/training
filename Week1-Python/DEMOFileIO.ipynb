{
 "cells": [
  {
   "cell_type": "code",
   "execution_count": 1,
   "metadata": {},
   "outputs": [],
   "source": [
    "f = open (\"a.txt\", \"w\")\n",
    "v = \"Hello\"\n",
    "f.write(v)\n",
    "f.close()"
   ]
  },
  {
   "cell_type": "code",
   "execution_count": 2,
   "metadata": {},
   "outputs": [],
   "source": [
    "def readOneAtATime():\n",
    "    fr = open (\"input1.txt\", \"r\")\n",
    "    for l in fr:\n",
    "        print (l)\n",
    "    fr.close()"
   ]
  },
  {
   "cell_type": "code",
   "execution_count": 10,
   "metadata": {},
   "outputs": [],
   "source": [
    "def readAllAtOnce():\n",
    "    fr = open (\"input1.txt\", \"r\")\n",
    "    l = fr.read()\n",
    "    print (l)\n",
    "    fr.close()"
   ]
  },
  {
   "cell_type": "code",
   "execution_count": 3,
   "metadata": {},
   "outputs": [],
   "source": [
    "def readAllLinesAtOnce():\n",
    "    fr = open (\"input1.txt\", \"r\")\n",
    "    a = fr.readlines()\n",
    "    print (a)\n",
    "    fr.close()\n",
    "    return a"
   ]
  },
  {
   "cell_type": "code",
   "execution_count": 4,
   "metadata": {},
   "outputs": [],
   "source": [
    "def writeAllLinesAtOnce(a):\n",
    "    fr = open (\"output1.txt\", \"w\")\n",
    "    fr.writelines(a)\n",
    "    print (a)\n",
    "    fr.close()\n"
   ]
  },
  {
   "cell_type": "code",
   "execution_count": 5,
   "metadata": {},
   "outputs": [],
   "source": [
    "def showfileProperties(a):\n",
    "    for l in a:\n",
    "        print (\"Name=\", l.name)\n",
    "        print (\"mode = \", l.mode)\n",
    "        print (\"is closed = \", l.closed)\n"
   ]
  },
  {
   "cell_type": "code",
   "execution_count": 6,
   "metadata": {},
   "outputs": [],
   "source": [
    "def readAndWriteOneLineAtATime():\n",
    "    fw = open (\"output1.txt\", \"a\")\n",
    "    with open (\"input1.txt\", \"r\") as fr:\n",
    "        showfileProperties((fw, fr))\n",
    "        for a in fr:\n",
    "            print (a)\n",
    "            fw.write(a)\n",
    "    fw.close()\n",
    "    showfileProperties((fw, fr))\n",
    "    return\n"
   ]
  },
  {
   "cell_type": "code",
   "execution_count": 7,
   "metadata": {},
   "outputs": [],
   "source": [
    "def writeAll(a):\n",
    "    fw = open (\"output1.txt\", \"w\")\n",
    "    fw.write(str(a))\n",
    "    fw.close()\n"
   ]
  },
  {
   "cell_type": "code",
   "execution_count": 8,
   "metadata": {},
   "outputs": [
    {
     "name": "stdout",
     "output_type": "stream",
     "text": [
      "This is line 1\n",
      "\n",
      "THis is line 2\n",
      "\n",
      "This is line 3\n",
      "\n",
      "This is line 4\n",
      "\n",
      "This is line 5\n",
      "\n"
     ]
    }
   ],
   "source": [
    "readOneAtATime()\n"
   ]
  },
  {
   "cell_type": "code",
   "execution_count": 11,
   "metadata": {},
   "outputs": [
    {
     "name": "stdout",
     "output_type": "stream",
     "text": [
      "This is line 1\n",
      "THis is line 2\n",
      "This is line 3\n",
      "This is line 4\n",
      "This is line 5\n",
      "\n"
     ]
    }
   ],
   "source": [
    "readAllAtOnce()\n",
    "\n"
   ]
  },
  {
   "cell_type": "code",
   "execution_count": 12,
   "metadata": {},
   "outputs": [
    {
     "name": "stdout",
     "output_type": "stream",
     "text": [
      "['This is line 1\\n', 'THis is line 2\\n', 'This is line 3\\n', 'This is line 4\\n', 'This is line 5\\n']\n"
     ]
    }
   ],
   "source": [
    "a = readAllLinesAtOnce()"
   ]
  },
  {
   "cell_type": "code",
   "execution_count": 13,
   "metadata": {},
   "outputs": [],
   "source": [
    "writeAll(a)\n"
   ]
  },
  {
   "cell_type": "code",
   "execution_count": null,
   "metadata": {},
   "outputs": [],
   "source": [
    "writeAllLinesAtOnce(readAllLinesAtOnce())\n"
   ]
  },
  {
   "cell_type": "code",
   "execution_count": null,
   "metadata": {},
   "outputs": [],
   "source": [
    "readAndWriteOneLineAtATime()"
   ]
  },
  {
   "cell_type": "code",
   "execution_count": null,
   "metadata": {},
   "outputs": [],
   "source": []
  }
 ],
 "metadata": {
  "kernelspec": {
   "display_name": "Python 3",
   "language": "python",
   "name": "python3"
  },
  "language_info": {
   "codemirror_mode": {
    "name": "ipython",
    "version": 3
   },
   "file_extension": ".py",
   "mimetype": "text/x-python",
   "name": "python",
   "nbconvert_exporter": "python",
   "pygments_lexer": "ipython3",
   "version": "3.6.2"
  }
 },
 "nbformat": 4,
 "nbformat_minor": 2
}
