{
 "cells": [
  {
   "cell_type": "code",
   "execution_count": null,
   "metadata": {},
   "outputs": [],
   "source": [
    "#This will show you how a while loop works"
   ]
  },
  {
   "cell_type": "code",
   "execution_count": null,
   "metadata": {},
   "outputs": [],
   "source": [
    "i =10\n",
    "while (i < 20):\n",
    "    print (\"In While loop\", i)\n",
    "    i+=1"
   ]
  },
  {
   "cell_type": "code",
   "execution_count": null,
   "metadata": {},
   "outputs": [],
   "source": [
    "print(i)\n",
    "while (i < 20):\n",
    "    print (\"In While loop\", i)\n",
    "    i+=1"
   ]
  },
  {
   "cell_type": "markdown",
   "metadata": {},
   "source": [
    "# What does ++i do in Python. Lets see!"
   ]
  },
  {
   "cell_type": "code",
   "execution_count": null,
   "metadata": {},
   "outputs": [],
   "source": [
    "i =10\n",
    "while (i < 11):\n",
    "    print (\"In while loop\", i)\n",
    "    ++i"
   ]
  },
  {
   "cell_type": "markdown",
   "metadata": {},
   "source": [
    "# You would have seen that it does nothing. ++i is treated as a unary operator ++ === +. hence it is like i"
   ]
  },
  {
   "cell_type": "markdown",
   "metadata": {},
   "source": [
    "# For and while are more useful while working with collectible data types like string, list, tuple, set, dict etc. Lets see some examples ith  item in a collectible are accessed by [i]. So if a = [1, 2, 3], a[0]==1, a[1==2, a[2]==3"
   ]
  },
  {
   "cell_type": "code",
   "execution_count": null,
   "metadata": {},
   "outputs": [],
   "source": [
    "listObj = [ 1, 2, 3, '456', 7, 8]\n",
    "i = 0\n",
    "lenObj = len(listObj)\n",
    "print (\"Length of listObj is \", lenObj, type(listObj))\n",
    "while (i < lenObj):\n",
    "    print (\"Inside while i=\", i, \"item=\", listObj[i])\n",
    "    i +=1 # This is the correct way of incrementing or i = i+1"
   ]
  },
  {
   "cell_type": "code",
   "execution_count": null,
   "metadata": {},
   "outputs": [],
   "source": [
    "# What do you think is wrong with the code? Or is it undocumented feature? THe following prints all items to be <class int>"
   ]
  },
  {
   "cell_type": "code",
   "execution_count": null,
   "metadata": {},
   "outputs": [],
   "source": [
    "listObj = [ 1, 2, 3, '456', 7, 8]\n",
    "i = 0\n",
    "lenObj = len(listObj)\n",
    "print (\"Length of listObj is \", lenObj, type(listObj))\n",
    "while (i < lenObj):\n",
    "    print (\"Inside while i=\", i, \"item=\", listObj[i], \" and type of item is\", type(i))\n",
    "    i +=1 # This is the correct way of incrementing or i = i+1"
   ]
  },
  {
   "cell_type": "code",
   "execution_count": null,
   "metadata": {},
   "outputs": [],
   "source": [
    "#Simple. Corrected!"
   ]
  },
  {
   "cell_type": "code",
   "execution_count": null,
   "metadata": {},
   "outputs": [],
   "source": [
    "listObj = [ 1, 2, 3, '456', 7, 8]\n",
    "i = 0\n",
    "lenObj = len(listObj)\n",
    "print (\"Length of listObj is \", lenObj, type(listObj))\n",
    "while (i < lenObj):\n",
    "    print (\"Inside while i=\", i, \"item=\", listObj[i], \" and type of item is\", type(listObj[i]))\n",
    "    i +=1 # This is the correct way of incrementing or i = i+1"
   ]
  },
  {
   "cell_type": "code",
   "execution_count": null,
   "metadata": {},
   "outputs": [],
   "source": [
    "#Demonstration of break, and continue"
   ]
  },
  {
   "cell_type": "code",
   "execution_count": null,
   "metadata": {},
   "outputs": [],
   "source": [
    "listObj = [ 1, 2, 3, '456', 7, 8, \"888\", [\"a\", \"b\", \"c\"], \"aa\", \"bb\"]\n",
    "i = 0\n",
    "lenObj = len(listObj)\n",
    "print (\"Length of listObj is \", lenObj, type(listObj))\n",
    "while (i < lenObj):\n",
    "    print (\"Inside while i=\", i, \"item=\", listObj[i], type(listObj[i]))\n",
    "    if (type(listObj[i]) is str):\n",
    "        i +=1\n",
    "        print (\"I am going to skip the rest of the lines of the while loop and go back to the while condition\")\n",
    "        continue\n",
    "    elif (type(listObj[i]) is list):\n",
    "        print (\"I am breaking out of while loop. Num unprocessed elements =\", lenObj - i-1)\n",
    "        break\n",
    "    print (\"Executed the last statement of the while loop\")\n",
    "    i +=1 # This is the correct way of incrementing or i = i+1"
   ]
  },
  {
   "cell_type": "code",
   "execution_count": null,
   "metadata": {},
   "outputs": [],
   "source": []
  }
 ],
 "metadata": {
  "kernelspec": {
   "display_name": "Python 3",
   "language": "python",
   "name": "python3"
  },
  "language_info": {
   "codemirror_mode": {
    "name": "ipython",
    "version": 3
   },
   "file_extension": ".py",
   "mimetype": "text/x-python",
   "name": "python",
   "nbconvert_exporter": "python",
   "pygments_lexer": "ipython3",
   "version": "3.6.2"
  }
 },
 "nbformat": 4,
 "nbformat_minor": 2
}
