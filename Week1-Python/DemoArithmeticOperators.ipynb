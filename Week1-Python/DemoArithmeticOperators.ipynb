{
 "cells": [
  {
   "cell_type": "code",
   "execution_count": 1,
   "metadata": {},
   "outputs": [
    {
     "name": "stdout",
     "output_type": "stream",
     "text": [
      "-10\n",
      "---10*-----1:  10\n",
      "+-10:  -10\n",
      "a = 10+6*3/6**2+11:  21.5\n",
      "a% 10:  1.5\n",
      "21.5\n",
      "a//10:  2.0\n",
      "b = -a *10**2:  -2150.0\n",
      "b = +a:  21.5\n",
      "6*3*2//18 =  2\n",
      "6//18*3*2 =  0\n",
      "-4\n"
     ]
    }
   ],
   "source": [
    "a = 10+6*3/6**2+11\n",
    "b = ---10\n",
    "print(b)\n",
    "c = ---10*-----1\n",
    "print(\"---10*-----1: \",c)\n",
    "c = +-10\n",
    "print(\"+-10: \", c)\n",
    "\n",
    "print(\"a = 10+6*3/6**2+11: \", a)\n",
    "print(\"a% 10: \", a% 10)\n",
    "print (a)\n",
    "print(\"a//10: \",a//10)\n",
    "b = -a *10**2\n",
    "print(\"b = -a *10**2: \",b)\n",
    "b = +a\n",
    "print(\"b = +a: \",b)\n",
    "\n",
    "print (\"6*3*2//18 = \", 6*3*2//18)\n",
    "print (\"6//18*3*2 = \", 6//18*3*2)\n",
    "print (-2<<1)"
   ]
  },
  {
   "cell_type": "code",
   "execution_count": null,
   "metadata": {},
   "outputs": [],
   "source": []
  }
 ],
 "metadata": {
  "kernelspec": {
   "display_name": "Python 3",
   "language": "python",
   "name": "python3"
  },
  "language_info": {
   "codemirror_mode": {
    "name": "ipython",
    "version": 3
   },
   "file_extension": ".py",
   "mimetype": "text/x-python",
   "name": "python",
   "nbconvert_exporter": "python",
   "pygments_lexer": "ipython3",
   "version": "3.6.2"
  }
 },
 "nbformat": 4,
 "nbformat_minor": 2
}
