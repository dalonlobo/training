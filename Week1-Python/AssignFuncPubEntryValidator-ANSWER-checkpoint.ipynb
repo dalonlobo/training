{
 "cells": [
  {
   "cell_type": "markdown",
   "metadata": {},
   "source": [
    "# Write a function that will act as Age checker for a pub. It will take the following parameters: name, Year_of_birth, current_year, legal_age, driving_id. If the age is greater than or equal to legal_age it will allow entry. Otherwise it will ban entry and say come after x years expires before you exceed the legal age limit"
   ]
  },
  {
   "cell_type": "code",
   "execution_count": null,
   "metadata": {},
   "outputs": [],
   "source": [
    "def funAgeValidator(name, birthyear, drivingId, currentYear=2018, legalAge=21): #please enter the parameters\n",
    "    strRet= \"\"\n",
    "    ###Write code to fill the parameters\n",
    "    bEntry = False\n",
    "    if (currentYear - birthyear >=legalAge):\n",
    "        bEntry = True\n",
    "    if bEntry==True:\n",
    "        strRet = \"WELCOME\" + name + drivingId\n",
    "    else:\n",
    "        strRet = \"SORRY \" + name + drivingId + \"Come after \" + str(legalAge -(currentYear - birthyear)) + \"Year(s)\"\n",
    "    #if entry is not allowed, then strRet should be of this format: \"SORRY <name> You cannot enter\n",
    "    return strRet"
   ]
  },
  {
   "cell_type": "code",
   "execution_count": null,
   "metadata": {},
   "outputs": [],
   "source": [
    "funAgeValidator(\"Shyam\", 1993, \"ka010002017\", 2018, 26 )"
   ]
  },
  {
   "cell_type": "code",
   "execution_count": null,
   "metadata": {},
   "outputs": [],
   "source": [
    "#Rewrite the function so that if legal_age is not specified, it is assumed to be 21"
   ]
  },
  {
   "cell_type": "code",
   "execution_count": null,
   "metadata": {},
   "outputs": [],
   "source": [
    "funAgeValidator(\"Shyam\", 1993, \"ka010002017\" )"
   ]
  },
  {
   "cell_type": "code",
   "execution_count": null,
   "metadata": {},
   "outputs": [],
   "source": [
    "funAgeValidator(birthyear=1993,name=\"Shyam\",  drivingId=\"ka010002017\", legalAge=30 )"
   ]
  },
  {
   "cell_type": "code",
   "execution_count": null,
   "metadata": {},
   "outputs": [],
   "source": []
  }
 ],
 "metadata": {
  "kernelspec": {
   "display_name": "Python 3",
   "language": "python",
   "name": "python3"
  },
  "language_info": {
   "codemirror_mode": {
    "name": "ipython",
    "version": 3
   },
   "file_extension": ".py",
   "mimetype": "text/x-python",
   "name": "python",
   "nbconvert_exporter": "python",
   "pygments_lexer": "ipython3",
   "version": "3.6.2"
  }
 },
 "nbformat": 4,
 "nbformat_minor": 2
}
