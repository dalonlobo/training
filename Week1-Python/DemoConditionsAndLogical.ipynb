{
 "cells": [
  {
   "cell_type": "code",
   "execution_count": null,
   "metadata": {},
   "outputs": [],
   "source": [
    "#This notebook will demonstrate if conditions and logical operators in python"
   ]
  },
  {
   "cell_type": "code",
   "execution_count": 2,
   "metadata": {},
   "outputs": [],
   "source": [
    "b = 5\n",
    "c = 6\n",
    "b += 3\n",
    "d = False\n",
    "e =True\n",
    "f = False\n"
   ]
  },
  {
   "cell_type": "code",
   "execution_count": 3,
   "metadata": {},
   "outputs": [
    {
     "name": "stdout",
     "output_type": "stream",
     "text": [
      "d is false False\n",
      "e is true True\n",
      "d or e and f False\n",
      "d and  e or f False\n",
      "c >= 5 or b==10 and b !=5\n",
      "True\n",
      "True\n"
     ]
    }
   ],
   "source": [
    "if (d):\n",
    "    print(\"d is True\", d)\n",
    "else:\n",
    "    print (\"d is false\",d)\n",
    "if e:\n",
    "    print (\"e is true\", e)\n",
    "else:\n",
    "    print (\"e is false\",e)\n",
    "print (\"d or e and f\", d or e and f)\n",
    "print (\"d and  e or f\", d and e or f)\n",
    "if b==11:\n",
    "    print (\"true\")\n",
    "elif c >= 5 and  b == 10 or  b != 5:\n",
    "#elif c >= 5 or b == 10 and b != 5:\n",
    "    print (\"c >= 5 or b==10 and b !=5\")\n",
    "print (b ==7 or b<=8 or b==10 and b !=5)\n",
    "print (b ==7 or b>=8 or b<=10 and b ==5)"
   ]
  },
  {
   "cell_type": "code",
   "execution_count": null,
   "metadata": {},
   "outputs": [],
   "source": []
  }
 ],
 "metadata": {
  "kernelspec": {
   "display_name": "Python 3",
   "language": "python",
   "name": "python3"
  },
  "language_info": {
   "codemirror_mode": {
    "name": "ipython",
    "version": 3
   },
   "file_extension": ".py",
   "mimetype": "text/x-python",
   "name": "python",
   "nbconvert_exporter": "python",
   "pygments_lexer": "ipython3",
   "version": "3.6.2"
  }
 },
 "nbformat": 4,
 "nbformat_minor": 2
}
