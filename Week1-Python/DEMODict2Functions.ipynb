{
 "cells": [
  {
   "cell_type": "markdown",
   "metadata": {},
   "source": [
    "# Will use key functions: access, [] (& change), update, del, pop, get, copy, clear"
   ]
  },
  {
   "cell_type": "code",
   "execution_count": 1,
   "metadata": {},
   "outputs": [
    {
     "name": "stdout",
     "output_type": "stream",
     "text": [
      "234\n",
      "abc\n",
      "None\n",
      "No Value Exist\n",
      "{1: 234, 2: 'abc', 3: 3}\n"
     ]
    }
   ],
   "source": [
    "d1={1:234, 2:\"abc\", 3:3}\n",
    "#Access key 1' value\n",
    "print (d1[1]) #d1[key]\n",
    "print (d1[2])\n",
    "#You will get a KeyError if you search on non-existing keys\n",
    "#print (d1[5])\n",
    "#TO over come that, use get, which will return a default value if the key does not exist\n",
    "print (d1.get(5)) #By default if key does not exist returns None\n",
    "print (d1.get(5, \"No Value Exist\")) #By default if key does not exist returns None\n",
    "print (d1) #It does not create the key for you"
   ]
  },
  {
   "cell_type": "code",
   "execution_count": 2,
   "metadata": {},
   "outputs": [
    {
     "name": "stdout",
     "output_type": "stream",
     "text": [
      "Before changing d1 key 1 {1: 234, 2: 'abc', 3: 3}\n",
      "After changing key 1 234new {1: '234new', 2: 'abc', 3: 3}\n",
      "After adding new key 1000 {1: '234new', 2: 'abc', 3: 3, 1000: 'Totally new value'}\n"
     ]
    }
   ],
   "source": [
    "#Change the value of key 1\n",
    "print (\"Before changing d1 key 1\", d1)\n",
    "d1[1] = \"234new\"\n",
    "print (\"After changing key 1\", d1[1], d1)\n",
    "\n",
    "#Add New key\n",
    "d1[1000] = \"Totally new value\"\n",
    "print (\"After adding new key 1000\", d1)"
   ]
  },
  {
   "cell_type": "code",
   "execution_count": 3,
   "metadata": {},
   "outputs": [
    {
     "name": "stdout",
     "output_type": "stream",
     "text": [
      "d1 before popping {1: 234, 2: 'abcd', 3: 3, 1000: 'Totally new value'}\n",
      "Popped keys' value= 234\n",
      "d1 after popping {2: 'abcd', 3: 3, 1000: 'Totally new value'}\n"
     ]
    }
   ],
   "source": [
    "#Lets remove a key\n",
    "d1[1]=234\n",
    "d1[2] =\"abcd\"\n",
    "print (\"d1 before popping\", d1)\n",
    "v = d1.pop(1)\n",
    "print (\"Popped keys' value=\", v)\n",
    "print (\"d1 after popping\", d1)"
   ]
  },
  {
   "cell_type": "code",
   "execution_count": null,
   "metadata": {},
   "outputs": [],
   "source": [
    "print (d1)"
   ]
  },
  {
   "cell_type": "code",
   "execution_count": 4,
   "metadata": {},
   "outputs": [
    {
     "name": "stdout",
     "output_type": "stream",
     "text": [
      "Got an exception while popping key 1 1\n",
      "Got an exception while del key 1 1\n"
     ]
    }
   ],
   "source": [
    "#if you pop a key that does not exist you will get an exception KeyError\n",
    "try:\n",
    "    d1.pop(1)\n",
    "except KeyError as ke:\n",
    "    print (\"Got an exception while popping key 1\", ke)\n",
    "try:\n",
    "    del(d1[1])\n",
    "except KeyError as ke:\n",
    "    print (\"Got an exception while del key 1\", ke)\n"
   ]
  },
  {
   "cell_type": "code",
   "execution_count": null,
   "metadata": {},
   "outputs": [],
   "source": [
    "d2 = d1.copy()\n",
    "print(d1, \"before clear\")\n",
    "d1.clear()\n",
    "print (d1, \"after clear\")\n",
    "print (d2)"
   ]
  },
  {
   "cell_type": "code",
   "execution_count": null,
   "metadata": {},
   "outputs": [],
   "source": []
  }
 ],
 "metadata": {
  "kernelspec": {
   "display_name": "Python 3",
   "language": "python",
   "name": "python3"
  },
  "language_info": {
   "codemirror_mode": {
    "name": "ipython",
    "version": 3
   },
   "file_extension": ".py",
   "mimetype": "text/x-python",
   "name": "python",
   "nbconvert_exporter": "python",
   "pygments_lexer": "ipython3",
   "version": "3.6.2"
  }
 },
 "nbformat": 4,
 "nbformat_minor": 2
}
