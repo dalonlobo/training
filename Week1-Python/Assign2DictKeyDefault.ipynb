{
 "cells": [
  {
   "cell_type": "markdown",
   "metadata": {},
   "source": [
    "# Set a default value of a dictionary when a key does not exist. Write a function which returns whether a key exists in the dictionary. If it exists, return True, and the value, else false,and default value"
   ]
  },
  {
   "cell_type": "code",
   "execution_count": 4,
   "metadata": {},
   "outputs": [],
   "source": [
    "def funKeyAndDefault(d, k):\n",
    "    ### Write code to get the value of k and return both if k exists and the value (==default, if it does not exist) - 2lines code\n",
    "    \n",
    "    ### Write code to get the value of k and return both if k exists and the value (==default, if it does not exist) - 2lines code\n",
    "    return ()"
   ]
  },
  {
   "cell_type": "code",
   "execution_count": 5,
   "metadata": {},
   "outputs": [
    {
     "data": {
      "text/plain": [
       "()"
      ]
     },
     "execution_count": 5,
     "metadata": {},
     "output_type": "execute_result"
    }
   ],
   "source": [
    "funKeyAndDefault({1:23, 45:78, 10:100}, 100)"
   ]
  },
  {
   "cell_type": "code",
   "execution_count": null,
   "metadata": {},
   "outputs": [],
   "source": []
  }
 ],
 "metadata": {
  "kernelspec": {
   "display_name": "Python 3",
   "language": "python",
   "name": "python3"
  },
  "language_info": {
   "codemirror_mode": {
    "name": "ipython",
    "version": 3
   },
   "file_extension": ".py",
   "mimetype": "text/x-python",
   "name": "python",
   "nbconvert_exporter": "python",
   "pygments_lexer": "ipython3",
   "version": "3.6.2"
  }
 },
 "nbformat": 4,
 "nbformat_minor": 2
}
