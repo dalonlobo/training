{
 "cells": [
  {
   "cell_type": "markdown",
   "metadata": {},
   "source": [
    "# THis will demonstrate some tuple functionality"
   ]
  },
  {
   "cell_type": "code",
   "execution_count": 1,
   "metadata": {},
   "outputs": [
    {
     "name": "stdout",
     "output_type": "stream",
     "text": [
      "(1, 1, 3, 3)\n",
      "([1, 2, 3], 1, 2)\n"
     ]
    }
   ],
   "source": [
    "t = ([1,2,3], 1, 2)\n",
    "t11 = (1, 1,3,3)\n",
    "print(t11)\n",
    "print (t)\n"
   ]
  },
  {
   "cell_type": "code",
   "execution_count": 2,
   "metadata": {},
   "outputs": [
    {
     "ename": "TypeError",
     "evalue": "'tuple' object does not support item assignment",
     "output_type": "error",
     "traceback": [
      "\u001b[1;31m---------------------------------------------------------------------------\u001b[0m",
      "\u001b[1;31mTypeError\u001b[0m                                 Traceback (most recent call last)",
      "\u001b[1;32m<ipython-input-2-b2bc1f9594f5>\u001b[0m in \u001b[0;36m<module>\u001b[1;34m()\u001b[0m\n\u001b[0;32m      1\u001b[0m \u001b[1;31m#check for immutability\u001b[0m\u001b[1;33m\u001b[0m\u001b[1;33m\u001b[0m\u001b[0m\n\u001b[1;32m----> 2\u001b[1;33m \u001b[0mt\u001b[0m\u001b[1;33m[\u001b[0m\u001b[1;36m1\u001b[0m\u001b[1;33m]\u001b[0m\u001b[1;33m=\u001b[0m\u001b[1;36m10\u001b[0m\u001b[1;33m\u001b[0m\u001b[0m\n\u001b[0m",
      "\u001b[1;31mTypeError\u001b[0m: 'tuple' object does not support item assignment"
     ]
    }
   ],
   "source": [
    "#check for immutability\n",
    "t[1]=10"
   ]
  },
  {
   "cell_type": "code",
   "execution_count": 5,
   "metadata": {},
   "outputs": [
    {
     "name": "stdout",
     "output_type": "stream",
     "text": [
      "Got exception 'tuple' object has no attribute 'append'\n"
     ]
    }
   ],
   "source": [
    "try:\n",
    "    t.append(10)\n",
    "    t[1]=10\n",
    "except TypeError as te:\n",
    "    print (\"Got exception\", te)\n",
    "    pass\n",
    "except AttributeError as ae:\n",
    "    print (\"Got exception\", ae)\n",
    "    pass"
   ]
  },
  {
   "cell_type": "code",
   "execution_count": 7,
   "metadata": {},
   "outputs": [
    {
     "name": "stdout",
     "output_type": "stream",
     "text": [
      "(1, 2, 3) [{1: 2, 2: 3}, {1, 5, 7}, 1, 2]\n",
      "t[1:3'= ({1: 2, 2: 3}, {1, 5, 7})\n",
      "True (1, 2, 3) (1, 2, 3)\n"
     ]
    }
   ],
   "source": [
    "#tuple can hold list, tuple, primitives, set, dict\n",
    "t = ((1,2,3), {1:2, 2:3}, {1,5,7}, 1, 2, 3, 4, 5, 6,\"abc\", \"def\", (1, 2, 3), (1, \"abcd\"))\n",
    "print (t[0], [t[1], t[2], t[3], t[4]])\n",
    "print (\"t[1:3'=\", t[1:3])\n",
    "print (t[0] == t[len(t)-2], t[0], t[len(t)-2])"
   ]
  },
  {
   "cell_type": "code",
   "execution_count": null,
   "metadata": {},
   "outputs": [],
   "source": []
  }
 ],
 "metadata": {
  "kernelspec": {
   "display_name": "Python 3",
   "language": "python",
   "name": "python3"
  },
  "language_info": {
   "codemirror_mode": {
    "name": "ipython",
    "version": 3
   },
   "file_extension": ".py",
   "mimetype": "text/x-python",
   "name": "python",
   "nbconvert_exporter": "python",
   "pygments_lexer": "ipython3",
   "version": "3.6.2"
  }
 },
 "nbformat": 4,
 "nbformat_minor": 2
}
