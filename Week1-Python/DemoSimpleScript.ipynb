{
 "cells": [
  {
   "cell_type": "markdown",
   "metadata": {},
   "source": [
    "# In Python you can write executable statements, and then define functions"
   ]
  },
  {
   "cell_type": "code",
   "execution_count": 25,
   "metadata": {},
   "outputs": [
    {
     "name": "stdout",
     "output_type": "stream",
     "text": [
      "<module 'sys' (built-in)>\n"
     ]
    }
   ],
   "source": [
    "import sys\n",
    "print (sys)\n",
    "a123 =1000"
   ]
  },
  {
   "cell_type": "markdown",
   "metadata": {},
   "source": [
    "# This is how a function is written"
   ]
  },
  {
   "cell_type": "code",
   "execution_count": 28,
   "metadata": {},
   "outputs": [],
   "source": [
    "def f1(n):\n",
    "    '''\n",
    "    THis function finds the sum of all number from 1 to n\n",
    "    Although this can be done without for loop, showcasing how to write a for loop\n",
    "    This is a docstring\n",
    "    Also this format can be used to define a multi-line string\n",
    "    '''\n",
    "    a= a123\n",
    "    sum = 0\n",
    "\n",
    "    for i in range(1,n+1):\n",
    "        sum += i\n",
    "    return sum\n"
   ]
  },
  {
   "cell_type": "markdown",
   "metadata": {},
   "source": [
    "# This is how a function is called"
   ]
  },
  {
   "cell_type": "code",
   "execution_count": 29,
   "metadata": {},
   "outputs": [
    {
     "name": "stdout",
     "output_type": "stream",
     "text": [
      "15\n",
      "210\n"
     ]
    }
   ],
   "source": [
    "a = f1(5)\n",
    "print (a)\n",
    "print (f1(20))"
   ]
  },
  {
   "cell_type": "code",
   "execution_count": 4,
   "metadata": {},
   "outputs": [
    {
     "name": "stdout",
     "output_type": "stream",
     "text": [
      "<built-in function print>\n"
     ]
    }
   ],
   "source": [
    "print(print)"
   ]
  },
  {
   "cell_type": "code",
   "execution_count": 5,
   "metadata": {},
   "outputs": [
    {
     "name": "stdout",
     "output_type": "stream",
     "text": [
      "<class 'int'>\n"
     ]
    }
   ],
   "source": [
    "print (type(a))"
   ]
  },
  {
   "cell_type": "code",
   "execution_count": 6,
   "metadata": {},
   "outputs": [
    {
     "name": "stdout",
     "output_type": "stream",
     "text": [
      "<class 'bool'>\n"
     ]
    }
   ],
   "source": [
    "a =True\n",
    "print(type(a))"
   ]
  },
  {
   "cell_type": "code",
   "execution_count": 7,
   "metadata": {},
   "outputs": [
    {
     "name": "stdout",
     "output_type": "stream",
     "text": [
      "type(a) is bool True\n"
     ]
    }
   ],
   "source": [
    "print (\"type(a) is bool\", type(a) is bool)"
   ]
  },
  {
   "cell_type": "code",
   "execution_count": 8,
   "metadata": {},
   "outputs": [
    {
     "name": "stdout",
     "output_type": "stream",
     "text": [
      "type(a) is str True\n"
     ]
    }
   ],
   "source": [
    "a = \"abc\"\n",
    "print (\"type(a) is str\", type(a) is str)"
   ]
  },
  {
   "cell_type": "code",
   "execution_count": 9,
   "metadata": {},
   "outputs": [
    {
     "name": "stdout",
     "output_type": "stream",
     "text": [
      "type(a) is float True\n"
     ]
    }
   ],
   "source": [
    "a = 1.23\n",
    "print (\"type(a) is float\", type(a) is float)"
   ]
  },
  {
   "cell_type": "code",
   "execution_count": 10,
   "metadata": {},
   "outputs": [
    {
     "name": "stdout",
     "output_type": "stream",
     "text": [
      "type (a) is int True\n"
     ]
    }
   ],
   "source": [
    "a =  1\n",
    "print (\"type (a) is int\", type(a) is int)"
   ]
  },
  {
   "cell_type": "code",
   "execution_count": 11,
   "metadata": {},
   "outputs": [
    {
     "name": "stdout",
     "output_type": "stream",
     "text": [
      "b'This is great' <class 'bytes'>\n",
      "type (a) is bytes True\n",
      "c= THis is great type(c)= <class 'str'> (type(c) is str  True\n",
      "d is  b'THis is great' and type(d) is  <class 'bytes'>\n",
      "e is  This is great and type(e) is  <class 'str'>\n"
     ]
    }
   ],
   "source": [
    "a = b\"This is great\" # a is not a bytestring\n",
    "print (a, type(a))\n",
    "print (\"type (a) is bytes\", type(a) is bytes)\n",
    "c = \"THis is great\"\n",
    "print (\"c=\", c, \"type(c)=\", type(c), \"(type(c) is str \",type(c) is str)\n",
    "d = str.encode(c) #converting c to byte\n",
    "print (\"d is \", d, \"and type(d) is \", type(d))\n",
    "e = a.decode()\n",
    "print (\"e is \", e, \"and type(e) is \", type(e))"
   ]
  },
  {
   "cell_type": "code",
   "execution_count": 15,
   "metadata": {},
   "outputs": [
    {
     "name": "stdout",
     "output_type": "stream",
     "text": [
      "<class 'complex'>\n"
     ]
    }
   ],
   "source": [
    "a = 1+2j\n",
    "print(type(a))"
   ]
  },
  {
   "cell_type": "code",
   "execution_count": 16,
   "metadata": {},
   "outputs": [
    {
     "name": "stdout",
     "output_type": "stream",
     "text": [
      "(1+2j)\n"
     ]
    }
   ],
   "source": [
    "b = complex(1,2)\n",
    "print(b)"
   ]
  },
  {
   "cell_type": "code",
   "execution_count": 17,
   "metadata": {},
   "outputs": [
    {
     "name": "stdout",
     "output_type": "stream",
     "text": [
      "1.0\n",
      "2.0\n"
     ]
    }
   ],
   "source": [
    "print (b.real)\n",
    "print(b.imag)"
   ]
  },
  {
   "cell_type": "code",
   "execution_count": 18,
   "metadata": {},
   "outputs": [
    {
     "name": "stdout",
     "output_type": "stream",
     "text": [
      "1616496368\n"
     ]
    }
   ],
   "source": [
    "a= 3\n",
    "print(id(a))"
   ]
  },
  {
   "cell_type": "code",
   "execution_count": 20,
   "metadata": {},
   "outputs": [
    {
     "name": "stdout",
     "output_type": "stream",
     "text": [
      "5 1616496432\n"
     ]
    }
   ],
   "source": [
    "a = a+1\n",
    "print (a, id(a))"
   ]
  },
  {
   "cell_type": "code",
   "execution_count": 21,
   "metadata": {},
   "outputs": [
    {
     "name": "stdout",
     "output_type": "stream",
     "text": [
      "a= 5 id a= 1616496432 b= 5 id b= 1616496432\n"
     ]
    }
   ],
   "source": [
    "b = 5\n",
    "a =5\n",
    "print (\"a=\", a, \"id a=\", id(a), \"b=\", b, \"id b=\", id(b))"
   ]
  },
  {
   "cell_type": "code",
   "execution_count": 22,
   "metadata": {},
   "outputs": [
    {
     "name": "stdout",
     "output_type": "stream",
     "text": [
      "a= 6 id a= 1616496464 b= 5 id b= 1616496432\n"
     ]
    }
   ],
   "source": [
    "a = 6\n",
    "print (\"a=\", a, \"id a=\", id(a), \"b=\", b, \"id b=\", id(b))"
   ]
  },
  {
   "cell_type": "code",
   "execution_count": 23,
   "metadata": {},
   "outputs": [
    {
     "name": "stdout",
     "output_type": "stream",
     "text": [
      "a= 5 id a= 1616496432 b= 5 id b= 1616496432\n"
     ]
    }
   ],
   "source": [
    "a=5\n",
    "print (\"a=\", a, \"id a=\", id(a), \"b=\", b, \"id b=\", id(b))"
   ]
  },
  {
   "cell_type": "code",
   "execution_count": 24,
   "metadata": {},
   "outputs": [
    {
     "name": "stdout",
     "output_type": "stream",
     "text": [
      "a= 1000 id a= 2545520909456 b= 1000 id b= 2545520909936\n"
     ]
    }
   ],
   "source": [
    "a=1000\n",
    "b=1000\n",
    "print (\"a=\", a, \"id a=\", id(a), \"b=\", b, \"id b=\", id(b))"
   ]
  },
  {
   "cell_type": "code",
   "execution_count": null,
   "metadata": {},
   "outputs": [],
   "source": []
  }
 ],
 "metadata": {
  "kernelspec": {
   "display_name": "Python 3",
   "language": "python",
   "name": "python3"
  },
  "language_info": {
   "codemirror_mode": {
    "name": "ipython",
    "version": 3
   },
   "file_extension": ".py",
   "mimetype": "text/x-python",
   "name": "python",
   "nbconvert_exporter": "python",
   "pygments_lexer": "ipython3",
   "version": "3.6.2"
  }
 },
 "nbformat": 4,
 "nbformat_minor": 2
}
