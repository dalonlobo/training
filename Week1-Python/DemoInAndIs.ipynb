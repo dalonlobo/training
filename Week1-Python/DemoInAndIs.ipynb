{
 "cells": [
  {
   "cell_type": "markdown",
   "metadata": {},
   "source": [
    "# Is and In are the most commonly used operators"
   ]
  },
  {
   "cell_type": "code",
   "execution_count": null,
   "metadata": {},
   "outputs": [],
   "source": [
    "#Is is used to test whether the 2 objects point to the same location"
   ]
  },
  {
   "cell_type": "code",
   "execution_count": null,
   "metadata": {},
   "outputs": [],
   "source": [
    "#in is used to test whether a value is in present in the sequence"
   ]
  },
  {
   "cell_type": "code",
   "execution_count": 5,
   "metadata": {},
   "outputs": [
    {
     "name": "stdout",
     "output_type": "stream",
     "text": [
      "5 in \"56789\" True True\n"
     ]
    }
   ],
   "source": [
    "a= \"5\"\n",
    "a in \"56789\"\n",
    "print (\"5 in \\\"56789\\\"\",\"5\" in \"56789\", \"2\" in \"1234\")"
   ]
  },
  {
   "cell_type": "code",
   "execution_count": 6,
   "metadata": {},
   "outputs": [
    {
     "data": {
      "text/plain": [
       "True"
      ]
     },
     "execution_count": 6,
     "metadata": {},
     "output_type": "execute_result"
    }
   ],
   "source": [
    "a =\"5\"\n",
    "b=\"5\"\n",
    "a is b"
   ]
  },
  {
   "cell_type": "code",
   "execution_count": 7,
   "metadata": {},
   "outputs": [
    {
     "name": "stdout",
     "output_type": "stream",
     "text": [
      "c is 6 True\n"
     ]
    }
   ],
   "source": [
    "b=5\n",
    "c = b+1\n",
    "print (\"c is 6\", c is 6)"
   ]
  },
  {
   "cell_type": "code",
   "execution_count": 8,
   "metadata": {},
   "outputs": [
    {
     "name": "stdout",
     "output_type": "stream",
     "text": [
      "b is c-1 True\n"
     ]
    }
   ],
   "source": [
    "print (\"b is c-1\", b is c-1)"
   ]
  },
  {
   "cell_type": "code",
   "execution_count": 9,
   "metadata": {},
   "outputs": [
    {
     "name": "stdout",
     "output_type": "stream",
     "text": [
      "1 in [1,2,3,4,5] True\n",
      "1 in [2,3,4,\"456\"] False\n",
      "2 in (1, 5, 7,8) False\n",
      "3 in {3:4, 4:5} True\n",
      "3 in {3:6, 4:5}.keys() True\n",
      "3 in {6:3, 4:5} False\n",
      "3 in {6:3, 4:5}.values() True\n"
     ]
    }
   ],
   "source": [
    "print(\"1 in [1,2,3,4,5]\", 1 in [1,2,3,4,5])\n",
    "print(\"1 in [2,3,4,\\\"456\\\"]\", 1 in [2,3,4,\"456\"])\n",
    "print(\"2 in (1, 5, 7,8)\", 2 in (1, 5, 7,8))\n",
    "print(\"3 in {3:4, 4:5}\",3 in {3:4, 4:5})\n",
    "print (\"3 in {3:6, 4:5}.keys()\", 3 in {3:6, 4:5}.keys()) \n",
    "print (\"3 in {6:3, 4:5}\", 3 in {6:3, 4:5}) \n",
    "print (\"3 in {6:3, 4:5}.values()\",3 in {6:3, 4:5}.values()) "
   ]
  },
  {
   "cell_type": "code",
   "execution_count": null,
   "metadata": {},
   "outputs": [],
   "source": []
  }
 ],
 "metadata": {
  "kernelspec": {
   "display_name": "Python 3",
   "language": "python",
   "name": "python3"
  },
  "language_info": {
   "codemirror_mode": {
    "name": "ipython",
    "version": 3
   },
   "file_extension": ".py",
   "mimetype": "text/x-python",
   "name": "python",
   "nbconvert_exporter": "python",
   "pygments_lexer": "ipython3",
   "version": "3.6.2"
  }
 },
 "nbformat": 4,
 "nbformat_minor": 2
}
